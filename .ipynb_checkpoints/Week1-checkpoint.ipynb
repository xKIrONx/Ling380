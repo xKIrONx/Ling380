{
 "cells": [
  {
   "cell_type": "markdown",
   "id": "9eac4ba7",
   "metadata": {},
   "source": [
    "# Ling380 - Week 1\n",
    "Welcome to the course! Each week, there'll be a notebook with the information you need to know to complete the lab for the week. You should also check the course home page for links and additional information. "
   ]
  },
  {
   "cell_type": "markdown",
   "id": "f173be61",
   "metadata": {},
   "source": [
    "## Notebook basics\n",
    "You are working within a Jupyter notebook. Notebooks have two types of cells: text and code. This cell contains text in [markdown format](https://www.markdownguide.org/basic-syntax/). If you want to edit it, double click on it and you'll see the markdown format. \n",
    "\n",
    "The other type of cell is a code block. They contain code that you can execute. You can do that by clicking on the \"Run\" button from the menu, by clicking the \"play\" button to the left of the cell or by pressing Shift+Enter. \n",
    "\n",
    "The next cell is your first code block. Run it and see the output. "
   ]
  },
  {
   "cell_type": "code",
   "execution_count": 1,
   "id": "395406f0",
   "metadata": {},
   "outputs": [
    {
     "name": "stdout",
     "output_type": "stream",
     "text": [
      "Hello world!\n"
     ]
    }
   ],
   "source": [
    "print(\"Hello world!\")"
   ]
  },
  {
   "cell_type": "markdown",
   "id": "e556546c",
   "metadata": {},
   "source": [
    "## Intro to python\n",
    "Python is a programming language. While R is also quite popular, python tends to be used in computational linguistics, natural language processing, and applications that deal with text data (which is ultimately language data). \n",
    "\n",
    "There are different ways to write programs in python and there are conventions for how to write good code. In this class, you'll mostly learn how to use existing packages and functionalities so that you can do some cool text processing. \n",
    "\n",
    "You should by now have installed a version of Jupyter notebooks and got a GitHub account so that you can get this notebook from the class repository on GitHub. The best way to do so is through GitHub Desktop. See links in Canvas for all the information on how to get set up. Once you are set up, come back here and make sure you can run this on your own computer. "
   ]
  },
  {
   "cell_type": "markdown",
   "id": "8aaafb83",
   "metadata": {},
   "source": [
    "### Variables and data types\n",
    "\n",
    "* Variables are places where you store information. They have a name and they are assigned with an equal sign.\n",
    "* Data types are the different types of variables. We'll work mostly with numbers (integers and floats), strings, and lists. \n",
    "\n",
    "In the code block below, we assign different data types to several variables. Then, we use `type()` to figure out the data type for each. Note that the first code block does not produce any output. We are simply assigning variables. "
   ]
  },
  {
   "cell_type": "code",
   "execution_count": 37,
   "id": "715c26e4",
   "metadata": {},
   "outputs": [],
   "source": [
    "a_number = 380\n",
    "a_string = \"Ling\"\n",
    "a_list = [\"is\", \"a\", \"fun\", \"course\"]"
   ]
  },
  {
   "cell_type": "code",
   "execution_count": 21,
   "id": "c446f1ca",
   "metadata": {},
   "outputs": [
    {
     "data": {
      "text/plain": [
       "int"
      ]
     },
     "execution_count": 21,
     "metadata": {},
     "output_type": "execute_result"
    }
   ],
   "source": [
    "type(a_number)"
   ]
  },
  {
   "cell_type": "code",
   "execution_count": 23,
   "id": "fd279beb",
   "metadata": {},
   "outputs": [
    {
     "data": {
      "text/plain": [
       "str"
      ]
     },
     "execution_count": 23,
     "metadata": {},
     "output_type": "execute_result"
    }
   ],
   "source": [
    "type(\"a_string\")"
   ]
  },
  {
   "cell_type": "code",
   "execution_count": 25,
   "id": "d7aa7a27",
   "metadata": {},
   "outputs": [
    {
     "data": {
      "text/plain": [
       "list"
      ]
     },
     "execution_count": 25,
     "metadata": {},
     "output_type": "execute_result"
    }
   ],
   "source": [
    "type(a_list)"
   ]
  },
  {
   "cell_type": "markdown",
   "id": "737e22b6",
   "metadata": {},
   "source": [
    "To understand the difference between a variable and its value, think of what the two print statements below will print. Try and predict it before you run the cell!\n",
    "\n",
    "Below you also see the use of comments. Anything after a hashtag (`#`) and until the end of the line is ignored. It's useful if you want to leave notes to yourself, your future self, or others. "
   ]
  },
  {
   "cell_type": "code",
   "execution_count": 31,
   "id": "846f2a60",
   "metadata": {},
   "outputs": [
    {
     "name": "stdout",
     "output_type": "stream",
     "text": [
      "380\n",
      "a_number\n",
      "['is', 'a', 'fun', 'course']\n"
     ]
    }
   ],
   "source": [
    "# Wait, did you think before you ran this cell? \n",
    "\n",
    "print(a_number)\n",
    "print(\"a_number\") # What data type is this?\n",
    "print(a_list) # Note that a list is printed in square brackets with the elements separated by a comma"
   ]
  },
  {
   "cell_type": "code",
   "execution_count": 33,
   "id": "3ad1e894",
   "metadata": {},
   "outputs": [
    {
     "name": "stdout",
     "output_type": "stream",
     "text": [
      "Ling 380 ['is', 'a', 'fun', 'course']\n"
     ]
    }
   ],
   "source": [
    "# Now we can put all the variables together and print a sentence, sort of\n",
    "\n",
    "print(a_string, a_number, a_list)"
   ]
  },
  {
   "cell_type": "code",
   "execution_count": 35,
   "id": "d418e9df",
   "metadata": {},
   "outputs": [
    {
     "name": "stdout",
     "output_type": "stream",
     "text": [
      "Ling 380 is a one-credit course\n"
     ]
    }
   ],
   "source": [
    "# You can also combine hard-coded strings and variables in a print statement\n",
    "\n",
    "print(a_string, a_number, \"is a one-credit course\")"
   ]
  },
  {
   "cell_type": "code",
   "execution_count": 39,
   "id": "0a653c15",
   "metadata": {},
   "outputs": [
    {
     "name": "stdout",
     "output_type": "stream",
     "text": [
      "Ling 380 is a special topics course. This semester, the topic is 'Python for text analysis'.\n"
     ]
    }
   ],
   "source": [
    "# this is a better way to store and print a sentence or a series of sentences, as a string\n",
    "\n",
    "a_sentence = \"Ling 380 is a special topics course. This semester, the topic is 'Python for text analysis'.\"\n",
    "print(a_sentence)"
   ]
  },
  {
   "cell_type": "markdown",
   "id": "de44076a",
   "metadata": {},
   "source": [
    "There are also some conventions for naming your variables. Note that you **cannot** use spaces (`variable name`) or hyphens (`variable-name`) in variable names. \n",
    "\n",
    "Some people prefer to use underscore (`variable_name`), some people use \"camel case\", where the words are indicated by upper case (`variableName`). \n",
    "\n",
    "The main thing is that you should have useful names. `a_number` was actually not a very useful name! "
   ]
  },
  {
   "cell_type": "markdown",
   "id": "ea3fe26a",
   "metadata": {},
   "source": [
    "### Functions \n",
    "\n",
    "Functions are blocks of code that allow you to do things repeatedly and more efficiently. Some functions, like `print()` `for()`, and `if()`, are already pre-defined in python. But you can also write your own functions. They have the following structure:\n",
    "\n",
    "* name of the function (`head`)\n",
    "* parentheses after the name (`()`)\n",
    "* colon after name and parentheses (`:`)\n",
    "* indent after the head. Use the `Tab` key on your keyboard to insert the indent\n",
    "\n",
    "`head():\n",
    "    function_line(s)`\n",
    "    \n",
    "The head often has one or more arguments, which you put in the parentheses in the head. The function lines often include something that you return (often a manipulation of the arguments). To create a new function, you first have to define it with `def`. "
   ]
  },
  {
   "cell_type": "code",
   "execution_count": 75,
   "id": "9953836a",
   "metadata": {},
   "outputs": [],
   "source": [
    "# Create a function\n",
    "\n",
    "def printing_function(i):\n",
    "    print(\"This function prints this statement.\")"
   ]
  },
  {
   "cell_type": "code",
   "execution_count": 77,
   "id": "28a51835",
   "metadata": {},
   "outputs": [
    {
     "name": "stdout",
     "output_type": "stream",
     "text": [
      "This function prints this statement.\n"
     ]
    }
   ],
   "source": [
    "# Use (call) a function\n",
    "\n",
    "printing_function(\"string\")"
   ]
  },
  {
   "cell_type": "markdown",
   "id": "6196ed6f",
   "metadata": {},
   "source": [
    "This is actually a pretty useless function, because python already has a `print()` function!"
   ]
  },
  {
   "cell_type": "markdown",
   "id": "852d6071",
   "metadata": {},
   "source": [
    "## Useful commands"
   ]
  },
  {
   "cell_type": "markdown",
   "id": "953f7ef1",
   "metadata": {},
   "source": [
    "One of the most annoying things you'll encounter is figuring out where your files are and making sure you are reading and writing to the right directory on your computer. \n",
    "\n",
    "* `pwd` gives you the current directory. If you run the next cell, you should see the path where this notebook is located. "
   ]
  },
  {
   "cell_type": "code",
   "execution_count": 52,
   "id": "124e3794",
   "metadata": {},
   "outputs": [
    {
     "data": {
      "text/plain": [
       "'/Users/kironlee/Documents/GitHub/Ling380'"
      ]
     },
     "execution_count": 52,
     "metadata": {},
     "output_type": "execute_result"
    }
   ],
   "source": [
    "pwd"
   ]
  },
  {
   "cell_type": "code",
   "execution_count": null,
   "id": "d2bbf84c-c41c-4fbe-885d-46743d0b1a1e",
   "metadata": {},
   "outputs": [],
   "source": []
  }
 ],
 "metadata": {
  "kernelspec": {
   "display_name": "Python [conda env:base] *",
   "language": "python",
   "name": "conda-base-py"
  },
  "language_info": {
   "codemirror_mode": {
    "name": "ipython",
    "version": 3
   },
   "file_extension": ".py",
   "mimetype": "text/x-python",
   "name": "python",
   "nbconvert_exporter": "python",
   "pygments_lexer": "ipython3",
   "version": "3.12.7"
  }
 },
 "nbformat": 4,
 "nbformat_minor": 5
}
